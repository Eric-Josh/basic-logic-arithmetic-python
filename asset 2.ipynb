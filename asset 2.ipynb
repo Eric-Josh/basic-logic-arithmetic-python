{
 "cells": [
  {
   "cell_type": "markdown",
   "metadata": {},
   "source": [
    "<b>Type A</b>"
   ]
  },
  {
   "cell_type": "code",
   "execution_count": 6,
   "metadata": {},
   "outputs": [
    {
     "name": "stdout",
     "output_type": "stream",
     "text": [
      "40\n",
      "30\n",
      "20\n",
      "10\n"
     ]
    }
   ],
   "source": [
    "# qstn 1\n",
    "for i in range(30,-5,-10):\n",
    "    print(i+10)"
   ]
  },
  {
   "cell_type": "code",
   "execution_count": 1,
   "metadata": {},
   "outputs": [
    {
     "name": "stdout",
     "output_type": "stream",
     "text": [
      "Enter value of a: 5\n",
      "Enter value of b: 4\n",
      "9\n"
     ]
    }
   ],
   "source": [
    "# qstn 2\n",
    "# a=5, b=4:\n",
    "a=int(input(\"Enter value of a: \"))\n",
    "b=int(input(\"Enter value of b: \"))\n",
    "while(b!=0):\n",
    "    a=a+1\n",
    "    b=b-1\n",
    "print(a)"
   ]
  },
  {
   "cell_type": "code",
   "execution_count": 2,
   "metadata": {},
   "outputs": [
    {
     "name": "stdout",
     "output_type": "stream",
     "text": [
      "Enter value of a: 4\n",
      "Enter value of b: 6\n",
      "10\n"
     ]
    }
   ],
   "source": [
    "# qstn 3\n",
    "# a=4, b=6\n",
    "a=int(input(\"Enter value of a: \"))\n",
    "b=int(input(\"Enter value of b: \"))\n",
    "while(b!=0):\n",
    "    a=a+1\n",
    "    b=b-1\n",
    "print(a)\n"
   ]
  },
  {
   "cell_type": "code",
   "execution_count": 7,
   "metadata": {},
   "outputs": [
    {
     "name": "stdout",
     "output_type": "stream",
     "text": [
      "50\n",
      "37\n",
      "24\n",
      "11\n"
     ]
    }
   ],
   "source": [
    "# qstn 4\n",
    "for i in range(40,-5,-13):\n",
    "    print(i+10)"
   ]
  },
  {
   "cell_type": "code",
   "execution_count": 8,
   "metadata": {},
   "outputs": [
    {
     "name": "stdout",
     "output_type": "stream",
     "text": [
      "19\n",
      "17\n",
      "15\n",
      "13\n"
     ]
    }
   ],
   "source": [
    "# qstn 5\n",
    "for i in range(18,10,-2):\n",
    "    print(i+1)"
   ]
  },
  {
   "cell_type": "code",
   "execution_count": 11,
   "metadata": {},
   "outputs": [
    {
     "name": "stdout",
     "output_type": "stream",
     "text": [
      "Kindly enter a year from 2000 and above: 2010\n",
      "2000\n",
      "2004\n",
      "2008\n"
     ]
    }
   ],
   "source": [
    "# qstn 6\n",
    "getUserYear = 0\n",
    "leapYearList = []\n",
    "\n",
    "getUserYear = int(input(\"Kindly enter a year from 2000 and above: \"))\n",
    "\n",
    "for year in range(2000, getUserYear):\n",
    "    #check if the year is a Leap year if yes print\n",
    "    if (0 == year % 4) and (0 != year % 100) or (0 == year % 400):\n",
    "        print(year)"
   ]
  },
  {
   "cell_type": "markdown",
   "metadata": {},
   "source": [
    "<b>Type B</b>"
   ]
  },
  {
   "cell_type": "code",
   "execution_count": 7,
   "metadata": {},
   "outputs": [
    {
     "name": "stdout",
     "output_type": "stream",
     "text": [
      "Enter a number: 9\n",
      "The value is: \n",
      "34\n"
     ]
    }
   ],
   "source": [
    "# qstn 1\n",
    "#if n=9:\n",
    "num=int(input(\"Enter a number: \"))\n",
    "start=-1\n",
    "end=1\n",
    "i=0\n",
    "while i <= num:\n",
    "    sum= end + start\n",
    "    start = end\n",
    "    end = sum\n",
    "    i = i + 1\n",
    "print(\"The value is: \")\n",
    "print(end)\n",
    "        "
   ]
  },
  {
   "cell_type": "code",
   "execution_count": 8,
   "metadata": {},
   "outputs": [
    {
     "name": "stdout",
     "output_type": "stream",
     "text": [
      "Enter value of a: 5\n",
      "Enter value of b: 4\n",
      "9\n"
     ]
    }
   ],
   "source": [
    "# qstn 2\n",
    "# a=5, b=4:\n",
    "a=int(input(\"Enter value of a: \"))\n",
    "b=int(input(\"Enter value of b: \"))\n",
    "while(b!=0):\n",
    "    a=a+1\n",
    "    b=b-1\n",
    "print(a)"
   ]
  },
  {
   "cell_type": "code",
   "execution_count": 9,
   "metadata": {},
   "outputs": [
    {
     "name": "stdout",
     "output_type": "stream",
     "text": [
      "6\n",
      "4\n",
      "2\n",
      "0\n"
     ]
    }
   ],
   "source": [
    "# qstn 3\n",
    "number = 8\n",
    "while(number > 0):\n",
    "    number = number - 2\n",
    "    print(number)"
   ]
  },
  {
   "cell_type": "code",
   "execution_count": null,
   "metadata": {},
   "outputs": [],
   "source": [
    "# qstn 4"
   ]
  },
  {
   "cell_type": "code",
   "execution_count": 10,
   "metadata": {},
   "outputs": [
    {
     "name": "stdout",
     "output_type": "stream",
     "text": [
      "$$\n",
      "The sum is: 0\n",
      "%\n",
      "The sum is: 3\n",
      "$$\n",
      "The sum is: 9\n",
      "%\n",
      "The sum is: 18\n"
     ]
    }
   ],
   "source": [
    "# qstn 5\n",
    "sum = 0\n",
    "for i in range(4):\n",
    "    x = i * 3\n",
    "    sum = sum + x\n",
    "    if(i % 2 == 0):\n",
    "        print('$$')\n",
    "    else:\n",
    "        print('%')\n",
    "    print('The sum is:', sum)"
   ]
  },
  {
   "cell_type": "code",
   "execution_count": 16,
   "metadata": {},
   "outputs": [
    {
     "name": "stdout",
     "output_type": "stream",
     "text": [
      "Enter a positive number: 90\n",
      "Enter a negative number 40\n",
      "Avarage is: 65.0\n"
     ]
    }
   ],
   "source": [
    "# qstn 6\n",
    "mark = int(input(\"Enter a positive number: \"))\n",
    "end = int(input(\"Enter a negative number \"))\n",
    "avg = (mark + end) / 2\n",
    "\n",
    "if mark > 100 or end > 100:\n",
    "    print(\"Please enter a valid number\")\n",
    "else:\n",
    "    print(\"Avarage is:\", avg)"
   ]
  }
 ],
 "metadata": {
  "kernelspec": {
   "display_name": "Python 3",
   "language": "python",
   "name": "python3"
  },
  "language_info": {
   "codemirror_mode": {
    "name": "ipython",
    "version": 3
   },
   "file_extension": ".py",
   "mimetype": "text/x-python",
   "name": "python",
   "nbconvert_exporter": "python",
   "pygments_lexer": "ipython3",
   "version": "3.6.9"
  }
 },
 "nbformat": 4,
 "nbformat_minor": 4
}
