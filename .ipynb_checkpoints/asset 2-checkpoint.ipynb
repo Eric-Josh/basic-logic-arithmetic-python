{
 "cells": [
  {
   "cell_type": "code",
   "execution_count": 1,
   "metadata": {},
   "outputs": [
    {
     "name": "stdout",
     "output_type": "stream",
     "text": [
      "40\n",
      "30\n",
      "20\n",
      "10\n"
     ]
    }
   ],
   "source": [
    "# qstn 1\n",
    "for i in range(30,-5,-10):\n",
    "    print(i+10)"
   ]
  },
  {
   "cell_type": "code",
   "execution_count": null,
   "metadata": {},
   "outputs": [],
   "source": [
    "# qstn 2\n",
    "# a=5, b=4:\n",
    "a=int(input(\"Enter value of a: \"))\n",
    "b=int(input(\"Enter value of b: \"))\n",
    "while(b!=0):\n",
    "    a=a+1\n",
    "    b=b-1\n",
    "print(a)"
   ]
  },
  {
   "cell_type": "code",
   "execution_count": 6,
   "metadata": {},
   "outputs": [
    {
     "ename": "SyntaxError",
     "evalue": "invalid syntax (<ipython-input-6-ee009913119b>, line 1)",
     "output_type": "error",
     "traceback": [
      "\u001b[0;36m  File \u001b[0;32m\"<ipython-input-6-ee009913119b>\"\u001b[0;36m, line \u001b[0;32m1\u001b[0m\n\u001b[0;31m    for(a=4,b=6):\u001b[0m\n\u001b[0m         ^\u001b[0m\n\u001b[0;31mSyntaxError\u001b[0m\u001b[0;31m:\u001b[0m invalid syntax\n"
     ]
    }
   ],
   "source": [
    "# qstn 2\n",
    "# a=4, b=6\n",
    "a=int(input(\"Enter value of a: \"))\n",
    "b=int(input(\"Enter value of b: \"))\n",
    "while(b!=0):\n",
    "    a=a+1\n",
    "    b=b-1\n",
    "print(a)"
   ]
  },
  {
   "cell_type": "code",
   "execution_count": 7,
   "metadata": {},
   "outputs": [
    {
     "name": "stdout",
     "output_type": "stream",
     "text": [
      "50\n",
      "37\n",
      "24\n",
      "11\n"
     ]
    }
   ],
   "source": [
    "# qstn 4\n",
    "for i in range(40,-5,-13):\n",
    "    print(i+10)"
   ]
  },
  {
   "cell_type": "code",
   "execution_count": 8,
   "metadata": {},
   "outputs": [
    {
     "name": "stdout",
     "output_type": "stream",
     "text": [
      "19\n",
      "17\n",
      "15\n",
      "13\n"
     ]
    }
   ],
   "source": [
    "# qstn 5\n",
    "for i in range(18,10,-2):\n",
    "    print(i+1)"
   ]
  },
  {
   "cell_type": "code",
   "execution_count": 11,
   "metadata": {},
   "outputs": [
    {
     "name": "stdout",
     "output_type": "stream",
     "text": [
      "Kindly enter a year from 2000 and above: 2010\n",
      "2000\n",
      "2004\n",
      "2008\n"
     ]
    }
   ],
   "source": [
    "# qstn 6\n",
    "getUserYear = 0\n",
    "leapYearList = []\n",
    "\n",
    "getUserYear = int(input(\"Kindly enter a year from 2000 and above: \"))\n",
    "\n",
    "for year in range(2000, getUserYear):\n",
    "    #check if the year is a Leap year if yes print\n",
    "    if (0 == year % 4) and (0 != year % 100) or (0 == year % 400):\n",
    "        print(year)"
   ]
  },
  {
   "cell_type": "code",
   "execution_count": null,
   "metadata": {},
   "outputs": [],
   "source": []
  }
 ],
 "metadata": {
  "kernelspec": {
   "display_name": "Python 3",
   "language": "python",
   "name": "python3"
  },
  "language_info": {
   "codemirror_mode": {
    "name": "ipython",
    "version": 3
   },
   "file_extension": ".py",
   "mimetype": "text/x-python",
   "name": "python",
   "nbconvert_exporter": "python",
   "pygments_lexer": "ipython3",
   "version": "3.6.9"
  }
 },
 "nbformat": 4,
 "nbformat_minor": 4
}
