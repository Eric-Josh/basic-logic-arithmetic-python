{
 "cells": [
  {
   "cell_type": "code",
   "execution_count": 1,
   "metadata": {},
   "outputs": [
    {
     "name": "stdout",
     "output_type": "stream",
     "text": [
      "Enter your mark:5\n",
      "Your grade is F\n"
     ]
    }
   ],
   "source": [
    "getInput = int(input(\"Enter your mark: \" ))\n",
    "\n",
    "if getInput >= 85:\n",
    "    print(\"Your grade is A\")\n",
    "elif getInput in range(60, 84):\n",
    "    print(\"Your grade is B\")\n",
    "else:\n",
    "    print(\"Your grade is F\")"
   ]
  },
  {
   "cell_type": "code",
   "execution_count": 3,
   "metadata": {},
   "outputs": [
    {
     "name": "stdout",
     "output_type": "stream",
     "text": [
      "still in Budget\n"
     ]
    }
   ],
   "source": [
    "diary = 10\n",
    "grocery = 100\n",
    "veggiesFruits = 50\n",
    "\n",
    "bill = diary + grocery + veggiesFruits\n",
    "\n",
    "if bill <= 150:\n",
    "    print('In Budget')\n",
    "elif bill > 160:\n",
    "        print('Over Budget')\n",
    "else:\n",
    "    print('still in Budget')"
   ]
  },
  {
   "cell_type": "code",
   "execution_count": 4,
   "metadata": {},
   "outputs": [
    {
     "name": "stdout",
     "output_type": "stream",
     "text": [
      "overdrawn\n"
     ]
    }
   ],
   "source": [
    "rent = 1000\n",
    "bills = 1500\n",
    "insurance = 50\n",
    "income = 1500\n",
    "balance = income - (rent+bills+insurance)\n",
    "\n",
    "if balance > 0:\n",
    "\tprint('savings')\n",
    "elif balance == 0:\n",
    "\tprint('critical')\n",
    "else:\n",
    "\tprint('overdrawn')"
   ]
  },
  {
   "cell_type": "code",
   "execution_count": 5,
   "metadata": {},
   "outputs": [
    {
     "name": "stdout",
     "output_type": "stream",
     "text": [
      "critical\n"
     ]
    }
   ],
   "source": [
    "rent = 1500\n",
    "bills = 1500\n",
    "insurance = 500\n",
    "income = 3500\n",
    "balance = income - (rent+bills+insurance)\n",
    "\n",
    "if balance > 0:\n",
    "\tprint('savings')\n",
    "elif balance == 0:\n",
    "\tprint('critical')\n",
    "else:\n",
    "\tprint('overdrawn')"
   ]
  },
  {
   "cell_type": "code",
   "execution_count": 6,
   "metadata": {},
   "outputs": [
    {
     "name": "stdout",
     "output_type": "stream",
     "text": [
      "Enter a number:5\n",
      "Even is: True\n"
     ]
    }
   ],
   "source": [
    "num= int(input('Enter a number: '))\n",
    "\n",
    "if num % 2 == 0:\n",
    "\teven = False\n",
    "\tprint('Even is:', even)\n",
    "\n",
    "else:\n",
    "\teven = True\n",
    "\tprint('Even is:', even)"
   ]
  },
  {
   "cell_type": "code",
   "execution_count": 15,
   "metadata": {},
   "outputs": [
    {
     "name": "stdout",
     "output_type": "stream",
     "text": [
      "Enter input:1\n",
      "Output is: False\n"
     ]
    }
   ],
   "source": [
    "lightOn = eval(input('Enter input:'))\n",
    "if lightOn :\n",
    "\tlightOn = False\n",
    "else:\n",
    "\tlightOn = True\n",
    "print('Output is:',lightOn)"
   ]
  },
  {
   "cell_type": "code",
   "execution_count": 12,
   "metadata": {},
   "outputs": [
    {
     "name": "stdout",
     "output_type": "stream",
     "text": [
      "Enter a number:7\n",
      "The value of even is: True\n"
     ]
    }
   ],
   "source": [
    "num= int(input('Enter a number: '))\n",
    "\n",
    "if num % 2 == 0:\n",
    "\teven = False\n",
    "\tprint('Even is:', even)\n",
    "\n",
    "else:\n",
    "\teven = True\n",
    "\tprint('The value of even is:', even)"
   ]
  },
  {
   "cell_type": "code",
   "execution_count": 13,
   "metadata": {},
   "outputs": [
    {
     "name": "stdout",
     "output_type": "stream",
     "text": [
      "Enter a number:2000\n",
      "Your balance is between $2000 and $3000\n"
     ]
    }
   ],
   "source": [
    "balance = eval(input('Enter a number:'))\n",
    "if((balance >= 2000) and (balance <= 3000)):\n",
    "\tprint(\"Your balance is between $2000 and $3000\")\n",
    "else:\n",
    "\tprint(\"Your balance is larger than $3000\")\n",
    "\tprint(\"Your interest rate will be 4.5%\")"
   ]
  },
  {
   "cell_type": "code",
   "execution_count": 14,
   "metadata": {},
   "outputs": [
    {
     "name": "stdout",
     "output_type": "stream",
     "text": [
      "overdrawn\n"
     ]
    }
   ],
   "source": [
    "rent = 2000\n",
    "payment = 1000\n",
    "income = 2500\n",
    "balance = income - (rent+payment)\n",
    "if(balance>0):\n",
    "\tprint('balance =',balance)\n",
    "elif(balance == 0):\n",
    "\tprint('critical')\n",
    "else:\n",
    "\tprint('overdrawn')"
   ]
  },
  {
   "cell_type": "code",
   "execution_count": 16,
   "metadata": {},
   "outputs": [
    {
     "ename": "IndentationError",
     "evalue": "expected an indented block (<ipython-input-16-ae6c7ec6a9e7>, line 6)",
     "output_type": "error",
     "traceback": [
      "\u001b[0;36m  File \u001b[0;32m\"<ipython-input-16-ae6c7ec6a9e7>\"\u001b[0;36m, line \u001b[0;32m6\u001b[0m\n\u001b[0;31m    print(\"Your balance is larger than $3000\")\u001b[0m\n\u001b[0m        ^\u001b[0m\n\u001b[0;31mIndentationError\u001b[0m\u001b[0;31m:\u001b[0m expected an indented block\n"
     ]
    }
   ],
   "source": [
    "balance = eval(input('Enter a number:'))\n",
    "if((balance >= 2000) or (balance <= 3000)):\n",
    "\tprint(\"Your balance is between $2000 and $3000\")\n",
    "\tprint(\"Your interest rate will be 3.5%\")\n",
    "else:\n",
    "print(\"Your balance is larger than $3000\")\n",
    "print(\"Your interest rate will be 4.5%\")"
   ]
  },
  {
   "cell_type": "code",
   "execution_count": 17,
   "metadata": {},
   "outputs": [
    {
     "name": "stdout",
     "output_type": "stream",
     "text": [
      "Enter a number:1000\n",
      "Your balance is larger than $3000\n",
      "Your interest rate will be 4.5%\n"
     ]
    }
   ],
   "source": [
    "balance = eval(input('Enter a number:'))\n",
    "if((balance >= 2000) and (balance <= 3000)):\n",
    "\tprint(\"Your balance is between $2000 and $3000\")\n",
    "\tprint(\"Your interest rate will be 3.5%\")\n",
    "else:\n",
    "\tprint(\"Your balance is larger than $3000\")\n",
    "\tprint(\"Your interest rate will be 4.5%\")"
   ]
  },
  {
   "cell_type": "code",
   "execution_count": 18,
   "metadata": {},
   "outputs": [
    {
     "name": "stdout",
     "output_type": "stream",
     "text": [
      "Please enter your height in meter:120\n",
      "Please enter your weight in kg: 60\n",
      "Your BMI is 2.9291666666666667 and you are underwieght \n"
     ]
    }
   ],
   "source": [
    "#Rules\n",
    "#if BMI <= 18.5 you are underweight\n",
    "#if BMI > 18.5 and BMI <= 25 you are fit\n",
    "#if BMI > 25 you are overweight\n",
    "   \n",
    "\n",
    "#declear variables\n",
    "getHeight = 0.0;\n",
    "getWeight = 0.0;\n",
    "bodyMassIndex = 0.0;\n",
    "\n",
    "#From this point I will ask the user for his/her information.\n",
    "getHeight = float(input(\"Please enter your height in meter: \"))\n",
    "getWeight = float(input(\"Please enter your weight in kg: \"))\n",
    "#user will enter there information above and we will then calcualte.\n",
    "bodyMassIndex = (getWeight * 703) / (getHeight ** 2)\n",
    "\n",
    "\n",
    "\n",
    "if bodyMassIndex <= 18.5:\n",
    "    print(\"Your BMI is \" + str( bodyMassIndex ) + \" and you are underwieght \")\n",
    "elif bodyMassIndex > 18.5 & bodyMassIndex <= 25.0:\n",
    "    print(\"Your BMI is \" + str(bodyMassIndex ) + \" and you are fit \")\n",
    "else:\n",
    "    print(\"Your BMI is \" + str(bodyMassIndex ) + \" and you are overweight \")"
   ]
  },
  {
   "cell_type": "code",
   "execution_count": null,
   "metadata": {},
   "outputs": [],
   "source": []
  }
 ],
 "metadata": {
  "kernelspec": {
   "display_name": "Python 3",
   "language": "python",
   "name": "python3"
  },
  "language_info": {
   "codemirror_mode": {
    "name": "ipython",
    "version": 3
   },
   "file_extension": ".py",
   "mimetype": "text/x-python",
   "name": "python",
   "nbconvert_exporter": "python",
   "pygments_lexer": "ipython3",
   "version": "3.6.9"
  }
 },
 "nbformat": 4,
 "nbformat_minor": 4
}
