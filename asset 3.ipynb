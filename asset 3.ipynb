{
 "cells": [
  {
   "cell_type": "code",
   "execution_count": 9,
   "metadata": {},
   "outputs": [
    {
     "name": "stdout",
     "output_type": "stream",
     "text": [
      "Enter Employee ID: 234\n",
      "Enter Employee Name: Mac Donald\n",
      "Enter Employee Salary: 60000\n",
      "==============================\n",
      "Employee ID: 234\n",
      "Employee Name: Mac Donald\n",
      "Employee Salary:  60000\n",
      "Employee Level: Level C\n",
      "Bonus Salary: 7%\n",
      "Gross Salary:  64200.0\n"
     ]
    }
   ],
   "source": [
    "class Employee:\n",
    "\n",
    "    #constructor\n",
    "    def __init__(self, employeeId, employeeName, employeeSalary ):\n",
    "        self.employeeId = employeeId\n",
    "        self.employeeName = employeeName\n",
    "        self.employeeSalary = employeeSalary\n",
    "\n",
    "    #getters\n",
    "    def get_employeeId(self):\n",
    "        return self.employeeId\n",
    "\n",
    "    def get_employeeName(self):\n",
    "        return self.employeeName\n",
    "\n",
    "    def get_employeeSalary(self):\n",
    "        return self.employeeSalary\n",
    "\n",
    "    #setters\n",
    "    def set_employeeId(self, employeeId):\n",
    "        self.employeeId = employeeId\n",
    "\n",
    "    def set_employeeName(self, employeeName):\n",
    "        self.employeeName = employeeName\n",
    "\n",
    "    def set_employeeSalaryl(self, employeeSalary):\n",
    "        self.employeeSalary = employeeSalary\n",
    "        \n",
    "        \n",
    "    #methods\n",
    "    def staffLevelSalary(self):\n",
    "        if self.employeeSalary <= 50000 :\n",
    "            gross = (((self.employeeSalary * 5)/100)+self.employeeSalary)\n",
    "            print(\"Employee Level: Level D\")\n",
    "            print(\"Bonus Salary: 5%\")\n",
    "            print(\"Gross Salary: \", gross)\n",
    "        elif self.employeeSalary <= 70000 :\n",
    "            gross = (((self.employeeSalary * 7)/100)+self.employeeSalary)\n",
    "            print(\"Employee Level: Level C\")\n",
    "            print(\"Bonus Salary: 7%\")\n",
    "            print(\"Gross Salary: \", gross)\n",
    "        elif self.employeeSalary <= 90000 :\n",
    "            gross = (((self.employeeSalary * 9)/100)+self.employeeSalary)\n",
    "            print(\"Employee Level: Level B\")\n",
    "            print(\"Bonus Salary: 9%\")\n",
    "            print(\"Gross Salary: \", gross)\n",
    "        elif self.employeeSalary > 90000 :\n",
    "            gross = (((self.employeeSalary * 10)/100)+self.employeeSalary)\n",
    "            print(\"Employee Level: Level A\")\n",
    "            print(\"Bonus Salary: 10%\")\n",
    "            print(\"Gross Salary: \", gross)\n",
    "\n",
    "\n",
    "employeeId = input((\"Enter Employee ID: \"))\n",
    "employeeName = input((\"Enter Employee Name: \"))\n",
    "employeeSalary = int(input((\"Enter Employee Salary: \")))\n",
    "\n",
    "\n",
    "y = Employee(employeeId, employeeName, employeeSalary)\n",
    "\n",
    "\n",
    "print(\"=\" * 30)\n",
    "print(\"Employee ID: \" + y.get_employeeId())\n",
    "print(\"Employee Name: \" + y.get_employeeName())\n",
    "print(\"Employee Salary: \", y.get_employeeSalary())\n",
    "y.staffLevelSalary()"
   ]
  },
  {
   "cell_type": "code",
   "execution_count": null,
   "metadata": {},
   "outputs": [],
   "source": []
  }
 ],
 "metadata": {
  "kernelspec": {
   "display_name": "Python 3",
   "language": "python",
   "name": "python3"
  },
  "language_info": {
   "codemirror_mode": {
    "name": "ipython",
    "version": 3
   },
   "file_extension": ".py",
   "mimetype": "text/x-python",
   "name": "python",
   "nbconvert_exporter": "python",
   "pygments_lexer": "ipython3",
   "version": "3.6.9"
  }
 },
 "nbformat": 4,
 "nbformat_minor": 4
}
