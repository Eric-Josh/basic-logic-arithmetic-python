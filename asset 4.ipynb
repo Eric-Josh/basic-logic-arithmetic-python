{
 "cells": [
  {
   "cell_type": "code",
   "execution_count": 4,
   "metadata": {},
   "outputs": [
    {
     "name": "stdout",
     "output_type": "stream",
     "text": [
      "Enter Staff ID: 11\n",
      "Enter Name: Jane Doe\n",
      "Enter Years of Experience: 4\n",
      "Enter Number of hours worked: 12\n",
      "***********************************\n",
      "Staff ID: 11\n",
      "Staff Name: Jane Doe\n",
      "Years of Experience:  4\n",
      "Number of Hours Worked:  12\n",
      "Staff Salary:  264\n"
     ]
    }
   ],
   "source": [
    "class Staff:\n",
    "    def __init__(self, staffId, staffName, yearsOfExp, workHour ):\n",
    "        self.staffId =staffId\n",
    "        self.staffName = staffName\n",
    "        self.yearsOfExp = yearsOfExp\n",
    "        self.workHour = workHour\n",
    "        \n",
    "    def get_staffId(self):\n",
    "        return self.staffId\n",
    "    def get_staffName(self):\n",
    "        return self.staffName\n",
    "    def get_yearsOfExp(self):\n",
    "        return self.yearsOfExp\n",
    "    def get_workHour(self):\n",
    "        return self.workHour\n",
    "    \n",
    "    def set_staffId(self, staffId):\n",
    "        self.staffId = staffId\n",
    "    def set_staffName(self, staffName):\n",
    "        self.staffName = staffName\n",
    "    def set_yearsOfExp(self, yearsOfExp):\n",
    "        self.yearsOfExp = yearsOfExp\n",
    "    def set_workHour(staff, workHour):\n",
    "        self.workHour = workHour\n",
    "        \n",
    "    def staffSalary(self):\n",
    "        if self.yearsOfExp < 2 :\n",
    "            sal = self.workHour * 20\n",
    "            print(\"Staff Salary: \", sal)\n",
    "        elif self.yearsOfExp >= 2 and self.yearsOfExp < 5 :\n",
    "            sal = self.workHour * 22\n",
    "            print(\"Staff Salary: \", sal)\n",
    "        elif self.yearsOfExp >= 5 and self.yearsOfExp < 10 :\n",
    "            sal = self.workHour * 28\n",
    "            print(\"Staff Salary: \", sal)\n",
    "        elif self.yearsOfExp >= 10 :\n",
    "            sal = self.workHour * 30\n",
    "            print(\"Staff Salary:\",sal)\n",
    "            \n",
    "\n",
    "staffId = input((\"Enter Staff ID: \"))\n",
    "staffName = input((\"Enter Name: \"))\n",
    "yearsOfExp = int(input((\"Enter Years of Experience: \")))\n",
    "workHour = int(input((\"Enter Number of hours worked: \")))\n",
    "\n",
    "output = Staff(staffId, staffName, yearsOfExp, workHour)\n",
    "\n",
    "print(\"*\" * 35)\n",
    "print(\"Staff ID: \" + output.get_staffId())\n",
    "print(\"Staff Name: \" + output.get_staffName())\n",
    "print(\"Years of Experience: \", output.get_yearsOfExp())\n",
    "print(\"Number of Hours Worked: \", output.get_workHour())\n",
    "output.staffSalary()"
   ]
  },
  {
   "cell_type": "code",
   "execution_count": null,
   "metadata": {},
   "outputs": [],
   "source": []
  }
 ],
 "metadata": {
  "kernelspec": {
   "display_name": "Python 3",
   "language": "python",
   "name": "python3"
  },
  "language_info": {
   "codemirror_mode": {
    "name": "ipython",
    "version": 3
   },
   "file_extension": ".py",
   "mimetype": "text/x-python",
   "name": "python",
   "nbconvert_exporter": "python",
   "pygments_lexer": "ipython3",
   "version": "3.6.9"
  }
 },
 "nbformat": 4,
 "nbformat_minor": 4
}
