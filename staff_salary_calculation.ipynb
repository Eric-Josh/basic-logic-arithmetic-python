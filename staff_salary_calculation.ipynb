{
 "cells": [
  {
   "cell_type": "markdown",
   "metadata": {},
   "source": [
    "<h2>Virtuoso Software Consultancy</h2>\n"
   ]
  },
  {
   "cell_type": "markdown",
   "metadata": {},
   "source": [
    "<h4>Staff Member Salary Calculation Based on Hourly Rate</h4>"
   ]
  },
  {
   "cell_type": "markdown",
   "metadata": {},
   "source": [
    "level1:hourly rate = 18 <br>\n",
    "level2:hourly rate = 25 <br>\n",
    "level3:hourly rate = 50 <br>\n",
    "level4:hourly rate = 100"
   ]
  },
  {
   "cell_type": "code",
   "execution_count": 3,
   "metadata": {},
   "outputs": [
    {
     "name": "stdout",
     "output_type": "stream",
     "text": [
      "Enter Staff ID:889\n",
      "Enter Name: john\n",
      "Enter Level within 1 and 4: 4\n",
      "Enter No. of hours worked:12\n",
      "==============================\n",
      "Staff ID: 889\n",
      "Staff Name: john\n",
      "Staff Level:  4\n",
      "Staff No. of hours worked:  12\n",
      "Staff Salary: $ 1200\n"
     ]
    }
   ],
   "source": [
    "class Staff:\n",
    "\t\n",
    "\t#constructor\n",
    "\tdef __init__(self, staffId, staffName,  staffLevel, staffWorkHour ):\n",
    "\t\tself.staffId =staffId\n",
    "\t\tself.staffName = staffName\n",
    "\t\tself.staffLevel = staffLevel\n",
    "\t\tself.staffWorkHour = staffWorkHour\n",
    "\t\t\n",
    "\t#getters\n",
    "\tdef get_staffId(self):\n",
    "\t\treturn self.staffId\n",
    "\t\t\n",
    "\tdef get_staffName(self):\n",
    "\t\treturn self.staffName\n",
    "\t\t\n",
    "\tdef get_staffLevel(self):\n",
    "\t\treturn self.staffLevel\n",
    "\t\t\n",
    "\tdef get_staffWorkHour(self):\n",
    "\t\treturn self.staffWorkHour\n",
    "\t\t\n",
    "\t#setters\n",
    "\tdef set_staffId(self, staffId):\n",
    "\t\tself.staffId = staffId\n",
    "\t\t\n",
    "\tdef set_staffName(self, staffName):\n",
    "\t\tself.staffName = staffName\n",
    "\t\t\n",
    "\tdef set_staffLevel(self, staffLevel):\n",
    "\t\tself.staffLevel = staffLevel\n",
    "\t\t\n",
    "\tdef set_staffWorkHour(staff, staffWorkHour):\n",
    "\t\tself.staffWorkHour = staffWorkHour\n",
    "\t\n",
    "\t#methods\n",
    "\tdef staffSalary(self):\n",
    "\t\tif self.staffLevel == 1 :\n",
    "\t\t\tsal = self.staffWorkHour * 18\n",
    "\t\t\tprint(\"Staff Salary: \", sal)\n",
    "\t\telif self.staffLevel == 2 :\n",
    "\t\t\tsal = self.staffWorkHour * 25\n",
    "\t\t\tprint(\"Staff Salary: \", sal)\n",
    "\t\telif self.staffLevel == 3 :\n",
    "\t\t\tsal = self.staffWorkHour * 50\n",
    "\t\t\tprint(\"Staff Salary: \", sal)\n",
    "\t\telif self.staffLevel == 4 :\n",
    "\t\t\tsal = self.staffWorkHour * 100\n",
    "\t\t\tprint(\"Staff Salary:\",sal)\n",
    "\t\n",
    "\n",
    "staffId = input((\"Enter Staff ID: \"))\n",
    "staffName = input((\"Enter Name: \"))\n",
    "\n",
    "while True:\n",
    "   staffLevel = int(input((\"Enter Level within 1 and 4: \")))\n",
    "   if staffLevel in range(1,5):\n",
    "      break\n",
    "   print('Please try again')\n",
    "\n",
    "staffWorkHour = int(input((\"Enter No. of hours worked: \")))\n",
    "\n",
    "\t\t\n",
    "x = Staff(staffId, staffName, staffLevel, staffWorkHour)\n",
    "\n",
    "\n",
    "print(\"=\" * 30)\n",
    "print(\"Staff ID: \" + x.get_staffId())\n",
    "print(\"Staff Name: \" + x.get_staffName())\n",
    "print(\"Staff Level: \", x.get_staffLevel())\n",
    "print(\"Staff No. of hours worked: \", x.get_staffWorkHour())\n",
    "x.staffSalary()\n",
    "\t"
   ]
  },
  {
   "cell_type": "code",
   "execution_count": null,
   "metadata": {},
   "outputs": [],
   "source": []
  }
 ],
 "metadata": {
  "kernelspec": {
   "display_name": "Python 3",
   "language": "python",
   "name": "python3"
  },
  "language_info": {
   "codemirror_mode": {
    "name": "ipython",
    "version": 3
   },
   "file_extension": ".py",
   "mimetype": "text/x-python",
   "name": "python",
   "nbconvert_exporter": "python",
   "pygments_lexer": "ipython3",
   "version": "3.6.9"
  }
 },
 "nbformat": 4,
 "nbformat_minor": 4
}
